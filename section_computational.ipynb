{
 "cells": [
  {
   "cell_type": "markdown",
   "metadata": {},
   "source": [
    "# Task1"
   ]
  },
  {
   "cell_type": "code",
   "execution_count": 16,
   "metadata": {},
   "outputs": [
    {
     "name": "stdout",
     "output_type": "stream",
     "text": [
      "DFPI\n",
      "Aspartate : 133.0375092233\n",
      "Phenylalanine : 165.0789793509\n",
      "Proline : 115.0633292871\n",
      "Isoleucine : 131.0946294147\n",
      "\n",
      "sum of seguence :  544.2744472759999\n",
      "full sum of sequence : 490.2427520846 \n",
      " there are different in mass\n"
     ]
    }
   ],
   "source": [
    "from pyopenms import *\n",
    "seq=AASequence.fromString(\"DFPI\")\n",
    "print(str(seq))\n",
    "sum=0\n",
    "for aa in seq:\n",
    "    print(aa.getName(),\":\",aa.getMonoWeight())\n",
    "    sum+=aa.getMonoWeight()\n",
    "print(\"\\nsum of seguence : \",sum)\n",
    "mfull=seq.getMonoWeight()\n",
    "print(\"full sum of sequence :\", mfull,\"\\n there are different in mass\")\n"
   ]
  },
  {
   "cell_type": "markdown",
   "metadata": {},
   "source": [
    "# Task2"
   ]
  },
  {
   "cell_type": "code",
   "execution_count": 17,
   "metadata": {
    "scrolled": true
   },
   "outputs": [
    {
     "name": "stdout",
     "output_type": "stream",
     "text": [
      "Help on module pyopenms.Constants in pyopenms:\n",
      "\n",
      "NAME\n",
      "    pyopenms.Constants\n",
      "\n",
      "DESCRIPTION\n",
      "    # @brief Mathematical and physical constants namespace.\n",
      "    # \n",
      "    # This namespace contains definitions for some basic mathematical and physical constants.\n",
      "    # All constants are double precision.\n",
      "\n",
      "DATA\n",
      "    AVOGADRO = 6.0221367e+23\n",
      "    BOHR_RADIUS = 5.29177249e-11\n",
      "    BOLTZMANN = 1.380657e-23\n",
      "    C13C12_MASSDIFF_U = 1.0033548378\n",
      "    CAL_PER_JOULE = 0.2390057361376673\n",
      "    DEG_PER_RAD = 57.29577951308232\n",
      "    E = 2.718281828459045\n",
      "    ELECTRON_MASS = 9.1093897e-31\n",
      "    ELECTRON_MASS_U = 0.0005485799042984105\n",
      "    ELEMENTARY_CHARGE = 1.60217738e-19\n",
      "    EPSILON = 1e-06\n",
      "    F = 96485.31200007845\n",
      "    FARADAY = 96485.31200007845\n",
      "    FINE_STRUCTURE_CONSTANT = 0.00729735\n",
      "    FRAGMENT_ANNOTATION_USERPARAM = 'fragment_annotation'\n",
      "    GAS_CONSTANT = 8.314505189811898\n",
      "    GRAVITATIONAL_CONSTANT = 6.67259e-11\n",
      "    JOULE_PER_CAL = 4.184\n",
      "    MM_PER_INCH = 25.4\n",
      "    MOL = 6.0221367e+23\n",
      "    M_PER_FOOT = 3.048\n",
      "    NA = 6.0221367e+23\n",
      "    NEUTRON_MASS = 1.6749286e-27\n",
      "    NEUTRON_MASS_U = 1.00866491566\n",
      "    PI = 3.141592653589793\n",
      "    PLANCK = 6.6260754e-34\n",
      "    PRECURSOR_ERROR_PPM_USERPARAM = 'precursor_mz_error_ppm'\n",
      "    PROTON_MASS = 1.672623e-27\n",
      "    PROTON_MASS_U = 1.007276466771\n",
      "    R = 8.314505189811898\n",
      "    RAD_PER_DEG = 0.017453292519943295\n",
      "    SPEED_OF_LIGHT = 299792458.0\n",
      "    VACUUM_PERMEABILITY = 1.2566370614359173e-06\n",
      "    VACUUM_PERMITTIVITY = 8.85419e-12\n",
      "    a0 = 5.29177249e-11\n",
      "    c = 299792458.0\n",
      "    e0 = 1.60217738e-19\n",
      "    h = 6.6260754e-34\n",
      "    k = 1.380657e-23\n",
      "\n",
      "FILE\n",
      "    c:\\users\\laptop market\\anaconda3\\lib\\site-packages\\pyopenms\\constants.py\n",
      "\n",
      "\n",
      "Avogadro's number is 6.0221367e+23\n"
     ]
    }
   ],
   "source": [
    "import pyopenms\n",
    "help(pyopenms.Constants)\n",
    "print (\"Avogadro's number is\", pyopenms.Constants.AVOGADRO)"
   ]
  },
  {
   "cell_type": "code",
   "execution_count": 18,
   "metadata": {},
   "outputs": [
    {
     "name": "stdout",
     "output_type": "stream",
     "text": [
      "Oxygen isotope 15.994915 has abundance 99.75699782371521 %\n",
      "Oxygen isotope 16.999132 has abundance 0.03800000122282654 %\n",
      "Oxygen isotope 17.999169 has abundance 0.20500000100582838 %\n",
      "Sulfur isotope 31.97207073 has abundance 94.92999911308289 %\n",
      "Sulfur isotope 32.971458 has abundance 0.7600000128149986 %\n",
      "Sulfur isotope 33.967867 has abundance 4.2899999767541885 %\n",
      "Sulfur isotope 35.967081 has abundance 0.019999999494757503 %\n"
     ]
    }
   ],
   "source": [
    "edb = ElementDB()\n",
    "oxygen_isoDist = {\"mass\": [], \"abundance\": []}\n",
    "sulfur_isoDist = {\"mass\": [], \"abundance\": []}\n",
    "\n",
    "oxygen = edb.getElement(\"O\")\n",
    "isotopes = oxygen.getIsotopeDistribution()\n",
    "for iso in isotopes.getContainer():\n",
    "    print (\"Oxygen isotope\", iso.getMZ(), \"has abundance\", iso.getIntensity()*100, \"%\")\n",
    "    oxygen_isoDist[\"mass\"].append(iso.getMZ())\n",
    "    oxygen_isoDist[\"abundance\"].append((iso.getIntensity() * 100))\n",
    "\n",
    "sulfur = edb.getElement(\"S\")\n",
    "isotopes = sulfur.getIsotopeDistribution()\n",
    "for iso in isotopes.getContainer():\n",
    "    print (\"Sulfur isotope\", iso.getMZ(), \"has abundance\", iso.getIntensity()*100, \"%\")\n",
    "    sulfur_isoDist[\"mass\"].append(iso.getMZ())\n",
    "    sulfur_isoDist[\"abundance\"].append((iso.getIntensity() * 100))"
   ]
  },
  {
   "cell_type": "code",
   "execution_count": 19,
   "metadata": {},
   "outputs": [
    {
     "data": {
      "image/png": "[encoded data removed]",
      "text/plain": [
       "<Figure size 720x504 with 2 Axes>"
      ]
     },
     "metadata": {
      "needs_background": "light"
     },
     "output_type": "display_data"
    }
   ],
   "source": [
    "import math\n",
    "from matplotlib import pyplot as plt\n",
    "\n",
    "# very simple overlappping correction of annotations\n",
    "def adjustText(x1, y1, x2, y2):\n",
    "    if y1 > y2:\n",
    "        plt.annotate('%0.3f' % (y2), xy=(x2, y2), xytext=(x2+0.5,y2+9),\n",
    "                     textcoords='data',\n",
    "                     arrowprops=dict(arrowstyle=\"->\", color='r', lw=0.5),\n",
    "                     horizontalalignment='right', verticalalignment='top')\n",
    "    else:\n",
    "        plt.annotate('%0.3f' % (y1), xy=(x1, y1), xytext=(x1+0.5,y1+9),\n",
    "                     textcoords='data',\n",
    "                     arrowprops=dict(arrowstyle=\"->\", color='r', lw=0.5),\n",
    "                     horizontalalignment='right', verticalalignment='top')\n",
    "\n",
    "\n",
    "def plotDistribution(distribution):\n",
    "    n = len(distribution[\"mass\"])\n",
    "    for i in range(0, n):\n",
    "        plt.vlines(x=distribution[\"mass\"][i], ymin=0, ymax=distribution[\"abundance\"][i])\n",
    "        if int(distribution[\"mass\"][i - 1]) == int(distribution[\"mass\"][i]) \\\n",
    "                and i != 0:\n",
    "            adjustText(distribution[\"mass\"][i - 1], distribution[\"abundance\"][i - 1],\n",
    "                       distribution[\"mass\"][i], distribution[\"abundance\"][i])\n",
    "        else:\n",
    "            plt.text(x=distribution[\"mass\"][i],\n",
    "                     y=(distribution[\"abundance\"][i] + 2),\n",
    "                     s='%0.3f' % (distribution[\"abundance\"][i]), va='center',\n",
    "                     ha='center')\n",
    "    plt.ylim([0, 110])\n",
    "    plt.xticks(range(math.ceil(distribution[\"mass\"][0]) - 2,\n",
    "                     math.ceil(distribution[\"mass\"][-1]) + 2))\n",
    "\n",
    "\n",
    "plt.figure(figsize=(10,7))\n",
    "\n",
    "plt.subplot(1,2,1)\n",
    "plt.title(\"Isotopic distribution of oxygen\")\n",
    "plotDistribution(oxygen_isoDist)\n",
    "plt.xlabel(\"Atomic mass (u)\")\n",
    "plt.ylabel(\"Relative abundance (%)\")\n",
    "\n",
    "plt.subplot(1,2,2)\n",
    "plt.title(\"Isotopic distribution of sulfur\")\n",
    "plotDistribution(sulfur_isoDist)\n",
    "plt.xlabel(\"Atomic mass (u)\")\n",
    "plt.ylabel(\"Relative abundance (%)\")\n",
    "\n",
    "plt.show()"
   ]
  },
  {
   "cell_type": "code",
   "execution_count": 20,
   "metadata": {},
   "outputs": [
    {
     "name": "stdout",
     "output_type": "stream",
     "text": [
      "Mass difference between 12C and 13C: 1.0033550000000009\n",
      "Mass difference between 14N and N15: 0.9970350000000003\n",
      "Relative deviation: 0.6298867300208343 %\n"
     ]
    }
   ],
   "source": [
    "edb = ElementDB()\n",
    "isotopes = edb.getElement(\"C\").getIsotopeDistribution().getContainer()\n",
    "carbon_isotope_difference = isotopes[1].getMZ() - isotopes[0].getMZ()\n",
    "isotopes = edb.getElement(\"N\").getIsotopeDistribution().getContainer()\n",
    "nitrogen_isotope_difference = isotopes[1].getMZ() - isotopes[0].getMZ()\n",
    "\n",
    "print (\"Mass difference between 12C and 13C:\", carbon_isotope_difference)\n",
    "print (\"Mass difference between 14N and N15:\", nitrogen_isotope_difference)\n",
    "print (\"Relative deviation:\", 100*(carbon_isotope_difference -\n",
    "        nitrogen_isotope_difference)/carbon_isotope_difference, \"%\")"
   ]
  },
  {
   "cell_type": "code",
   "execution_count": 21,
   "metadata": {},
   "outputs": [
    {
     "name": "stdout",
     "output_type": "stream",
     "text": [
      "Sum of masses of 2 protons, neutrons and electrons: 4.032979924670597\n",
      "Mass of He4: 4.00260325415\n",
      "Difference between the two masses: 0.7532065888743016 %\n"
     ]
    }
   ],
   "source": [
    "from pyopenms.Constants import *\n",
    "\n",
    "helium = ElementDB().getElement(\"He\")\n",
    "isotopes = helium.getIsotopeDistribution()\n",
    "\n",
    "mass_sum = 2*PROTON_MASS_U + 2*ELECTRON_MASS_U + 2*NEUTRON_MASS_U\n",
    "helium4 = isotopes.getContainer()[1].getMZ()\n",
    "print (\"Sum of masses of 2 protons, neutrons and electrons:\", mass_sum)\n",
    "print (\"Mass of He4:\", helium4)\n",
    "print (\"Difference between the two masses:\", 100*(mass_sum - helium4)/mass_sum, \"%\")"
   ]
  },
  {
   "cell_type": "code",
   "execution_count": 22,
   "metadata": {},
   "outputs": [
    {
     "name": "stdout",
     "output_type": "stream",
     "text": [
      "Sum of masses of 2 protons, neutrons and electrons: 4.032979924670597\n",
      "Mass of He4: 4.00260325415\n",
      "Difference between the two masses: 0.7532065888743016 %\n"
     ]
    }
   ],
   "source": [
    "from pyopenms.Constants import *\n",
    "\n",
    "helium = ElementDB().getElement(\"He\")\n",
    "isotopes = helium.getIsotopeDistribution()\n",
    "\n",
    "mass_sum = 2*PROTON_MASS_U + 2*ELECTRON_MASS_U + 2*NEUTRON_MASS_U\n",
    "helium4 = isotopes.getContainer()[1].getMZ()\n",
    "print (\"Sum of masses of 2 protons, neutrons and electrons:\", mass_sum)\n",
    "print (\"Mass of He4:\", helium4)\n",
    "print (\"Difference between the two masses:\", 100*(mass_sum - helium4)/mass_sum, \"%\")"
   ]
  },
  {
   "cell_type": "code",
   "execution_count": 28,
   "metadata": {},
   "outputs": [
    {
     "name": "stdout",
     "output_type": "stream",
     "text": [
      "Ethanol chemical formula: C2H6O1\n",
      "Ethanol composition: {b'C': 2, b'H': 6, b'O': 1}\n",
      "Ethanol has 6 hydrogen atoms\n"
     ]
    }
   ],
   "source": [
    "methanol = EmpiricalFormula(\"CH3OH\")\n",
    "water = EmpiricalFormula(\"H2O\")\n",
    "ethanol = EmpiricalFormula(\"CH2\") + methanol\n",
    "print(\"Ethanol chemical formula:\", ethanol.toString())\n",
    "print(\"Ethanol composition:\", ethanol.getElementalComposition())\n",
    "print(\"Ethanol has\", ethanol.getElementalComposition()[b\"H\"], \"hydrogen atoms\")"
   ]
  },
  {
   "cell_type": "code",
   "execution_count": 22,
   "metadata": {},
   "outputs": [
    {
     "name": "stdout",
     "output_type": "stream",
     "text": [
      "Coarse Isotope Distribution:\n",
      "This covers 1.0000000131221896 probability\n",
      "Isotope 46.0418651914 has abundance 97.56630063056946 %\n",
      "Isotope 47.045220029199996 has abundance 2.214995212852955 %\n",
      "Isotope 48.048574867 has abundance 0.21421683486551046 %\n",
      "Isotope 49.0519297048 has abundance 0.004488633931032382 %\n",
      "Fine Isotope Distribution:\n",
      "This covers 0.9994461630121805 probability\n",
      "Isotope 46.0418651914 has abundance 97.5662887096405 %\n",
      "Isotope 47.0452201914 has abundance 2.110501006245613 %\n",
      "Isotope 47.0481419395 has abundance 0.06732848123647273 %\n",
      "Isotope 48.046119191399995 has abundance 0.20049810409545898 %\n"
     ]
    }
   ],
   "source": [
    "from pyopenms.Constants import *\n",
    "methanol = EmpiricalFormula(\"CH3OH\")\n",
    "ethanol = EmpiricalFormula(\"CH2\") + methanol\n",
    "methanol_isoDist = {\"mass\": [], \"abundance\": []}\n",
    "ethanol_isoDist = {\"mass\": [], \"abundance\": []}\n",
    "print(\"Coarse Isotope Distribution:\")\n",
    "isotopes = ethanol.getIsotopeDistribution( CoarseIsotopePatternGenerator(4) )\n",
    "prob_sum = sum([iso.getIntensity() for iso in isotopes.getContainer()])\n",
    "print(\"This covers\", prob_sum, \"probability\")\n",
    "\n",
    "for iso in isotopes.getContainer():\n",
    "        print (\"Isotope\", iso.getMZ(), \"has abundance\", iso.getIntensity()*100, \"%\")\n",
    "        methanol_isoDist[\"mass\"].append(iso.getMZ())\n",
    "        methanol_isoDist[\"abundance\"].append((iso.getIntensity() * 100))\n",
    "print(\"Fine Isotope Distribution:\")\n",
    "isotopes = ethanol.getIsotopeDistribution( FineIsotopePatternGenerator(1e-3) )\n",
    "prob_sum = sum([iso.getIntensity() for iso in isotopes.getContainer()])\n",
    "print(\"This covers\", prob_sum, \"probability\")\n",
    "for iso in isotopes.getContainer():\n",
    "    print (\"Isotope\", iso.getMZ(), \"has abundance\", iso.getIntensity()*100, \"%\")      \n",
    "    ethanol_isoDist[\"mass\"].append(iso.getMZ())\n",
    "    ethanol_isoDist[\"abundance\"].append((iso.getIntensity() * 100))"
   ]
  },
  {
   "cell_type": "code",
   "execution_count": null,
   "metadata": {},
   "outputs": [],
   "source": [
    "#######################################################################################################################"
   ]
  },
  {
   "cell_type": "code",
   "execution_count": 23,
   "metadata": {},
   "outputs": [],
   "source": [
    "from urllib.request import urlretrieve\n",
    "from pyopenms import *\n",
    "gh = \"https://raw.githubusercontent.com/OpenMS/pyopenms-extra/master\"\n",
    "urlretrieve (gh + \"/src/data/YIC(Carbamidomethyl)DNQDTISSK.mzML\", \"observed.mzML\")\n",
    "\n",
    "exp = MSExperiment()\n",
    "MzMLFile().load(\"observed.mzML\", exp)\n",
    "\n",
    "spectra = exp.getSpectra()\n",
    "observed_spectrum = spectra[0]"
   ]
  },
  {
   "cell_type": "code",
   "execution_count": 24,
   "metadata": {},
   "outputs": [],
   "source": [
    "tsg = TheoreticalSpectrumGenerator()\n",
    "theo_spectrum = MSSpectrum()\n",
    "p = tsg.getParameters()\n",
    "p.setValue(\"add_y_ions\", \"true\")\n",
    "p.setValue(\"add_b_ions\", \"true\")\n",
    "p.setValue(\"add_metainfo\", \"true\")\n",
    "tsg.setParameters(p)\n",
    "peptide = AASequence.fromString(\"YIC(Carbamidomethyl)DNQDTISSK\")\n",
    "tsg.getSpectrum(theo_spectrum, peptide, 1, 2)"
   ]
  },
  {
   "cell_type": "code",
   "execution_count": 3,
   "metadata": {},
   "outputs": [
    {
     "name": "stdout",
     "output_type": "stream",
     "text": [
      "212.012451171875\n",
      "795.2837524414062\n"
     ]
    },
    {
     "data": {
      "image/png": "[encoded data removed]",
      "text/plain": [
       "<Figure size 864x576 with 1 Axes>"
      ]
     },
     "metadata": {
      "needs_background": "light"
     },
     "output_type": "display_data"
    }
   ],
   "source": [
    "import numpy as np\n",
    "from matplotlib import pyplot as plt\n",
    "\n",
    "def mirror_plot(obs_mz, obs_int, theo_mz, theo_int, title):\n",
    "    obs_int = [element / max(obs_int) for element in obs_int] \n",
    "    theo_int = [element * -1 for element in theo_int] \n",
    "    plt.figure(figsize=(12,8))\n",
    "    plt.bar(obs_mz, obs_int, width = 3.0)\n",
    "    plt.bar(theo_mz, theo_int, width = 3.0)\n",
    "    plt.title(title)\n",
    "    plt.ylabel('intensity')\n",
    "    plt.xlabel('m/z')\n",
    "\n",
    "obs_mz, obs_int = observed_spectrum.get_peaks()\n",
    "\n",
    "print(min(obs_mz)) \n",
    "print(max(obs_mz)) \n",
    "\n",
    "theo_mz, theo_int = [], []\n",
    "for mz, intensity in zip(*theo_spectrum.get_peaks()):\n",
    "    if mz >= 200.0 and mz <= 800.0:\n",
    "        theo_mz.append(mz)\n",
    "        theo_int.append(intensity)\n",
    "\n",
    "title = 'Observed vs theoretical spectrum'\n",
    "mirror_plot(obs_mz, obs_int, theo_mz, theo_int, title)"
   ]
  },
  {
   "cell_type": "code",
   "execution_count": 4,
   "metadata": {},
   "outputs": [],
   "source": [
    "alignment = []\n",
    "spa = SpectrumAlignment()\n",
    "p = spa.getParameters()\n",
    "p.setValue(\"tolerance\", 0.5)\n",
    "p.setValue(\"is_relative_tolerance\", \"false\")\n",
    "spa.setParameters(p)\n",
    "spa.getSpectrumAlignment(alignment, theo_spectrum, observed_spectrum)"
   ]
  },
  {
   "cell_type": "code",
   "execution_count": 5,
   "metadata": {},
   "outputs": [
    {
     "name": "stdout",
     "output_type": "stream",
     "text": [
      "Number of matched peaks: 16\n",
      "ion\ttheo. m/z\tobserved m/z\n",
      "y2+\t1\t234.14483407287105\t234.12303161621094\n",
      "y5++\t2\t268.157941636671\t268.1054382324219\n",
      "b2+\t1\t277.154670104771\t277.24560546875\n",
      "y3+\t1\t321.17686323237103\t321.2969970703125\n",
      "y4+\t1\t434.26092758327104\t434.2879638671875\n",
      "b3+\t1\t437.185319089971\t437.291259765625\n",
      "y5+\t1\t535.308606806571\t535.18896484375\n",
      "b4+\t1\t552.212263249471\t552.3375244140625\n",
      "b9++\t2\t562.239866948271\t562.4213256835938\n",
      "y10++\t2\t584.250963512071\t584.4120483398438\n",
      "y11++\t2\t640.792995687521\t640.9539184570312\n",
      "b11++\t2\t649.2718961077711\t649.0973510742188\n",
      "y6+\t1\t650.335550966071\t650.3652954101562\n",
      "b5+\t1\t666.255191440871\t666.1763305664062\n",
      "y7+\t1\t778.394129221271\t778.3391723632812\n",
      "b6+\t1\t794.3137696960711\t794.192138671875\n"
     ]
    }
   ],
   "source": [
    "print(\"Number of matched peaks: \" + str(len(alignment)))\n",
    "print(\"ion\\ttheo. m/z\\tobserved m/z\")\n",
    "\n",
    "for theo_idx, obs_idx in alignment:\n",
    "    ion_name = theo_spectrum.getStringDataArrays()[0][theo_idx].decode()\n",
    "    ion_charge = theo_spectrum.getIntegerDataArrays()[0][theo_idx]\n",
    "    print(ion_name + \"\\t\" + str(ion_charge) + \"\\t\"\n",
    "      + str(theo_spectrum[theo_idx].getMZ())\n",
    "      + \"\\t\" + str(observed_spectrum[obs_idx].getMZ()))"
   ]
  },
  {
   "cell_type": "code",
   "execution_count": 6,
   "metadata": {},
   "outputs": [
    {
     "data": {
      "image/png": "[encoded data removed]",
      "text/plain": [
       "<Figure size 864x576 with 1 Axes>"
      ]
     },
     "metadata": {
      "needs_background": "light"
     },
     "output_type": "display_data"
    }
   ],
   "source": [
    "theo_mz, theo_int, obs_mz, obs_int = [], [], [], []\n",
    "for theo_idx, obs_idx in alignment:\n",
    "    theo_mz.append(theo_spectrum[theo_idx].getMZ())\n",
    "    theo_int.append(theo_spectrum[theo_idx].getIntensity())\n",
    "    obs_mz.append(observed_spectrum[obs_idx].getMZ())\n",
    "    obs_int.append(observed_spectrum[obs_idx].getIntensity())\n",
    "\n",
    "title = 'Observed vs theoretical spectrum (aligned)'\n",
    "mirror_plot(obs_mz, obs_int, theo_mz, theo_int, title)"
   ]
  },
  {
   "cell_type": "code",
   "execution_count": 6,
   "metadata": {},
   "outputs": [
    {
     "name": "stdout",
     "output_type": "stream",
     "text": [
      "WVTFISLLLLFSSAYSR\n",
      "DLGEEHFK\n",
      "GLVLIAFSQYLQQCPFDEHVK\n",
      "LVNELTEFAK\n",
      "TCVADESHAGCEK\n",
      "SLHTLFGDELCK\n",
      "ETYGDMADCCEK\n",
      "NECFLSHK\n",
      "DDSPDLPK\n",
      "LKPDPNTLCDEFK\n",
      "YLYEIAR\n",
      "HPYFYAPELLYYANK\n",
      "YNGVFQECCQAEDK\n",
      "GACLLPK\n",
      "VLASSAR\n",
      "AEFVEVTK\n",
      "LVTDLTK\n",
      "ECCHGDLLECADDR\n",
      "YICDNQDTISSK\n",
      "ECCDKPLLEK\n",
      "SHCIAEVEK\n",
      "DAIPENLPPLTADFAEDK\n",
      "DAFLGSFLYEYSR\n",
      "HPEYAVSVLLR\n",
      "EYEATLEECCAK\n",
      "DDPHACYSTVFDK\n",
      "HLVDEPQNLIK\n",
      "QNCDQFEK\n",
      "LGEYGFQNALIVR\n",
      "VPQVSTPTLVEVSR\n",
      "CCTKPESER\n",
      "MPCTEDYLSLILNR\n",
      "LCVLHEK\n",
      "CCTESLVNR\n",
      "RPCFSALTPDETYVPK\n",
      "LFTFHADICTLPDTEK\n",
      "QTALVELLK\n",
      "ATEEQLK\n",
      "TVMENFVAFVDK\n",
      "CCAADDK\n",
      "EACFAVEGPK\n",
      "LVVSTQTALA\n"
     ]
    }
   ],
   "source": [
    "dig.digest(bsa, result, 7, 40)\n",
    "for s in result:\n",
    "    print(s.toString())"
   ]
  },
  {
   "cell_type": "code",
   "execution_count": 7,
   "metadata": {
    "scrolled": true
   },
   "outputs": [
    {
     "name": "stdout",
     "output_type": "stream",
     "text": [
      "WVTFISLLLLFSSAYSR\n",
      "DLGEEHFK\n",
      "GLVLIAFSQYLQQCPFDEHVK\n",
      "LVNELTEFAK\n",
      "TCVADESHAGCEK\n",
      "SLHTLFGDELCK\n",
      "ETYGDMADCCEK\n",
      "NECFLSHK\n",
      "DDSPDLPK\n",
      "LKPDPNTLCDEFK\n",
      "YLYEIAR\n",
      "HPYFYAPELLYYANK\n",
      "YNGVFQECCQAEDK\n",
      "GACLLPK\n",
      "VLASSAR\n",
      "AEFVEVTK\n",
      "LVTDLTK\n",
      "ECCHGDLLECADDR\n",
      "YICDNQDTISSK\n",
      "ECCDKPLLEK\n",
      "SHCIAEVEK\n",
      "DAIPENLPPLTADFAEDK\n",
      "DAFLGSFLYEYSR\n",
      "HPEYAVSVLLR\n",
      "EYEATLEECCAK\n",
      "DDPHACYSTVFDK\n",
      "HLVDEPQNLIK\n",
      "QNCDQFEK\n",
      "LGEYGFQNALIVR\n",
      "VPQVSTPTLVEVSR\n",
      "CCTKPESER\n",
      "MPCTEDYLSLILNR\n",
      "LCVLHEK\n",
      "CCTESLVNR\n",
      "RPCFSALTPDETYVPK\n",
      "LFTFHADICTLPDTEK\n",
      "QTALVELLK\n",
      "ATEEQLK\n",
      "TVMENFVAFVDK\n",
      "CCAADDK\n",
      "EACFAVEGPK\n",
      "LVVSTQTALA\n",
      "MKWVTFISLLLLFSSAYSR\n",
      "WVTFISLLLLFSSAYSRGVFR\n",
      "DTHKSEIAHR\n",
      "SEIAHRFK\n",
      "FKDLGEEHFK\n",
      "DLGEEHFKGLVLIAFSQYLQQCPFDEHVK\n",
      "GLVLIAFSQYLQQCPFDEHVKLVNELTEFAK\n",
      "LVNELTEFAKTCVADESHAGCEK\n",
      "TCVADESHAGCEKSLHTLFGDELCK\n",
      "SLHTLFGDELCKVASLR\n",
      "VASLRETYGDMADCCEK\n",
      "ETYGDMADCCEKQEPER\n",
      "QEPERNECFLSHK\n",
      "NECFLSHKDDSPDLPK\n",
      "DDSPDLPKLKPDPNTLCDEFK\n",
      "LKPDPNTLCDEFKADEK\n",
      "FWGKYLYEIAR\n",
      "YLYEIARR\n",
      "RHPYFYAPELLYYANK\n",
      "HPYFYAPELLYYANKYNGVFQECCQAEDK\n",
      "YNGVFQECCQAEDKGACLLPK\n",
      "GACLLPKIETMR\n",
      "IETMREK\n",
      "EKVLASSAR\n",
      "VLASSARQR\n",
      "LRCASIQK\n",
      "CASIQKFGER\n",
      "FGERALK\n",
      "ALKAWSVAR\n",
      "AWSVARLSQK\n",
      "LSQKFPK\n",
      "FPKAEFVEVTK\n",
      "AEFVEVTKLVTDLTK\n",
      "LVTDLTKVHK\n",
      "VHKECCHGDLLECADDR\n",
      "ECCHGDLLECADDRADLAK\n",
      "ADLAKYICDNQDTISSK\n",
      "YICDNQDTISSKLK\n",
      "LKECCDKPLLEK\n",
      "ECCDKPLLEKSHCIAEVEK\n",
      "SHCIAEVEKDAIPENLPPLTADFAEDK\n",
      "DAIPENLPPLTADFAEDKDVCK\n",
      "DVCKNYQEAK\n",
      "NYQEAKDAFLGSFLYEYSR\n",
      "DAFLGSFLYEYSRR\n",
      "RHPEYAVSVLLR\n",
      "HPEYAVSVLLRLAK\n",
      "LAKEYEATLEECCAK\n",
      "EYEATLEECCAKDDPHACYSTVFDK\n",
      "DDPHACYSTVFDKLK\n",
      "LKHLVDEPQNLIK\n",
      "HLVDEPQNLIKQNCDQFEK\n",
      "QNCDQFEKLGEYGFQNALIVR\n",
      "LGEYGFQNALIVRYTR\n",
      "KVPQVSTPTLVEVSR\n",
      "VPQVSTPTLVEVSRSLGK\n",
      "SLGKVGTR\n",
      "VGTRCCTKPESER\n",
      "CCTKPESERMPCTEDYLSLILNR\n",
      "MPCTEDYLSLILNRLCVLHEK\n",
      "LCVLHEKTPVSEK\n",
      "TPVSEKVTK\n",
      "VTKCCTESLVNR\n",
      "CCTESLVNRRPCFSALTPDETYVPK\n",
      "RPCFSALTPDETYVPKAFDEK\n",
      "AFDEKLFTFHADICTLPDTEK\n",
      "LFTFHADICTLPDTEKQIK\n",
      "KQTALVELLK\n",
      "QTALVELLKHKPK\n",
      "HKPKATEEQLK\n",
      "ATEEQLKTVMENFVAFVDK\n",
      "TVMENFVAFVDKCCAADDK\n",
      "CCAADDKEACFAVEGPK\n",
      "EACFAVEGPKLVVSTQTALA\n",
      "MKWVTFISLLLLFSSAYSRGVFR\n",
      "WVTFISLLLLFSSAYSRGVFRR\n",
      "GVFRRDTHK\n",
      "RDTHKSEIAHR\n",
      "DTHKSEIAHRFK\n",
      "SEIAHRFKDLGEEHFK\n",
      "FKDLGEEHFKGLVLIAFSQYLQQCPFDEHVK\n",
      "DLGEEHFKGLVLIAFSQYLQQCPFDEHVKLVNELTEFAK\n",
      "LVNELTEFAKTCVADESHAGCEKSLHTLFGDELCK\n",
      "TCVADESHAGCEKSLHTLFGDELCKVASLR\n",
      "SLHTLFGDELCKVASLRETYGDMADCCEK\n",
      "VASLRETYGDMADCCEKQEPER\n",
      "ETYGDMADCCEKQEPERNECFLSHK\n",
      "QEPERNECFLSHKDDSPDLPK\n",
      "NECFLSHKDDSPDLPKLKPDPNTLCDEFK\n",
      "DDSPDLPKLKPDPNTLCDEFKADEK\n",
      "LKPDPNTLCDEFKADEKK\n",
      "ADEKKFWGK\n",
      "KFWGKYLYEIAR\n",
      "FWGKYLYEIARR\n",
      "YLYEIARRHPYFYAPELLYYANK\n",
      "RHPYFYAPELLYYANKYNGVFQECCQAEDK\n",
      "HPYFYAPELLYYANKYNGVFQECCQAEDKGACLLPK\n",
      "YNGVFQECCQAEDKGACLLPKIETMR\n",
      "GACLLPKIETMREK\n",
      "IETMREKVLASSAR\n",
      "EKVLASSARQR\n",
      "VLASSARQRLR\n",
      "QRLRCASIQK\n",
      "LRCASIQKFGER\n",
      "CASIQKFGERALK\n",
      "FGERALKAWSVAR\n",
      "ALKAWSVARLSQK\n",
      "AWSVARLSQKFPK\n",
      "LSQKFPKAEFVEVTK\n",
      "FPKAEFVEVTKLVTDLTK\n",
      "AEFVEVTKLVTDLTKVHK\n",
      "LVTDLTKVHKECCHGDLLECADDR\n",
      "VHKECCHGDLLECADDRADLAK\n",
      "ECCHGDLLECADDRADLAKYICDNQDTISSK\n",
      "ADLAKYICDNQDTISSKLK\n",
      "YICDNQDTISSKLKECCDKPLLEK\n",
      "LKECCDKPLLEKSHCIAEVEK\n",
      "ECCDKPLLEKSHCIAEVEKDAIPENLPPLTADFAEDK\n",
      "SHCIAEVEKDAIPENLPPLTADFAEDKDVCK\n",
      "DAIPENLPPLTADFAEDKDVCKNYQEAK\n",
      "DVCKNYQEAKDAFLGSFLYEYSR\n",
      "NYQEAKDAFLGSFLYEYSRR\n",
      "DAFLGSFLYEYSRRHPEYAVSVLLR\n",
      "RHPEYAVSVLLRLAK\n",
      "HPEYAVSVLLRLAKEYEATLEECCAK\n",
      "LAKEYEATLEECCAKDDPHACYSTVFDK\n",
      "EYEATLEECCAKDDPHACYSTVFDKLK\n",
      "DDPHACYSTVFDKLKHLVDEPQNLIK\n",
      "LKHLVDEPQNLIKQNCDQFEK\n",
      "HLVDEPQNLIKQNCDQFEKLGEYGFQNALIVR\n",
      "QNCDQFEKLGEYGFQNALIVRYTR\n",
      "LGEYGFQNALIVRYTRK\n",
      "YTRKVPQVSTPTLVEVSR\n",
      "KVPQVSTPTLVEVSRSLGK\n",
      "VPQVSTPTLVEVSRSLGKVGTR\n",
      "SLGKVGTRCCTKPESER\n",
      "VGTRCCTKPESERMPCTEDYLSLILNR\n",
      "CCTKPESERMPCTEDYLSLILNRLCVLHEK\n",
      "MPCTEDYLSLILNRLCVLHEKTPVSEK\n",
      "LCVLHEKTPVSEKVTK\n",
      "TPVSEKVTKCCTESLVNR\n",
      "VTKCCTESLVNRRPCFSALTPDETYVPK\n",
      "CCTESLVNRRPCFSALTPDETYVPKAFDEK\n",
      "RPCFSALTPDETYVPKAFDEKLFTFHADICTLPDTEK\n",
      "AFDEKLFTFHADICTLPDTEKQIK\n",
      "LFTFHADICTLPDTEKQIKK\n",
      "QIKKQTALVELLK\n",
      "KQTALVELLKHKPK\n",
      "QTALVELLKHKPKATEEQLK\n",
      "HKPKATEEQLKTVMENFVAFVDK\n",
      "ATEEQLKTVMENFVAFVDKCCAADDK\n",
      "TVMENFVAFVDKCCAADDKEACFAVEGPK\n",
      "CCAADDKEACFAVEGPKLVVSTQTALA\n"
     ]
    }
   ],
   "source": [
    "dig.setMissedCleavages(2)\n",
    "dig.digest(bsa, result, 7, 40)\n",
    "for s in result:\n",
    "    print(s.toString())"
   ]
  },
  {
   "cell_type": "code",
   "execution_count": 9,
   "metadata": {},
   "outputs": [
    {
     "data": {
      "text/plain": [
       "'(?<=[KX])(?!P)'"
      ]
     },
     "execution_count": 9,
     "metadata": {},
     "output_type": "execute_result"
    }
   ],
   "source": [
    "names = []\n",
    "ProteaseDB().getAllNames(names)\n",
    "len(names) # at least 25 by default\n",
    "e = ProteaseDB().getEnzyme('Lys-C')\n",
    "e.getRegExDescription()\n",
    "e.getRegEx()"
   ]
  },
  {
   "cell_type": "code",
   "execution_count": 24,
   "metadata": {},
   "outputs": [
    {
     "name": "stdout",
     "output_type": "stream",
     "text": [
      "LVNELTEFAK\n",
      "GLVLIAFSQYLQQCPFDEHVK\n"
     ]
    },
    {
     "data": {
      "text/plain": [
       "57"
      ]
     },
     "execution_count": 24,
     "metadata": {},
     "output_type": "execute_result"
    }
   ],
   "source": [
    "# lycin\n",
    "from urllib.request import urlretrieve\n",
    "gh = \"https://raw.githubusercontent.com/OpenMS/pyopenms-extra/master\"\n",
    "urlretrieve (gh + \"/src/data/P02769.fasta\", \"bsa.fasta\")\n",
    "\n",
    "dig = ProteaseDigestion()\n",
    "dig.setEnzyme('Lys-C')\n",
    "bsa = \"\".join([l.strip() for l in open(\"bsa.fasta\").readlines()[1:]])\n",
    "bsa = AASequence.fromString(bsa)\n",
    "\n",
    "result = []\n",
    "dig.digest(bsa, result)\n",
    "print(result[4].toString())\n",
    "len(result) "
   ]
  },
  {
   "cell_type": "code",
   "execution_count": 5,
   "metadata": {},
   "outputs": [
    {
     "name": "stdout",
     "output_type": "stream",
     "text": [
      "DTHK\n"
     ]
    },
    {
     "data": {
      "text/plain": [
       "82"
      ]
     },
     "execution_count": 5,
     "metadata": {},
     "output_type": "execute_result"
    }
   ],
   "source": [
    "# trypcin\n",
    "from pyopenms import *\n",
    "from urllib.request import urlretrieve\n",
    "gh = \"https://raw.githubusercontent.com/OpenMS/pyopenms-extra/master\"\n",
    "urlretrieve (gh + \"/src/data/P02769.fasta\", \"bsa.fasta\")\n",
    "\n",
    "dig = ProteaseDigestion()\n",
    "dig.getEnzymeName() # Trypsin\n",
    "bsa = \"\".join([l.strip() for l in open(\"bsa.fasta\").readlines()[1:]])\n",
    "bsa = AASequence.fromString(bsa)\n",
    "result = []\n",
    "dig.digest(bsa, result)\n",
    "print(result[4].toString())\n",
    "len(result) "
   ]
  },
  {
   "cell_type": "code",
   "execution_count": 32,
   "metadata": {},
   "outputs": [
    {
     "data": {
      "text/plain": [
       "'p'"
      ]
     },
     "execution_count": 32,
     "metadata": {},
     "output_type": "execute_result"
    }
   ],
   "source": [
    "db = RNaseDB()\n",
    "names = []\n",
    "db.getAllNames(names)\n",
    "names\n",
    "e = db.getEnzyme(\"RNase_T1\")\n",
    "e.getRegEx()\n",
    "e.getThreePrimeGain()\n"
   ]
  },
  {
   "cell_type": "code",
   "execution_count": 25,
   "metadata": {},
   "outputs": [
    {
     "name": "stdout",
     "output_type": "stream",
     "text": [
      "pAUGp\n",
      "UCGp\n",
      "CAG\n",
      "Looking closer at pAUGp\n",
      " Five Prime modification: 5'-p\n",
      " Three Prime modification: 3'-p\n",
      "A 267.0968 False\n",
      "U 244.0695 False\n",
      "G 283.0917 False\n"
     ]
    }
   ],
   "source": [
    "oligo = NASequence.fromString(\"pAUGUCGCAG\");\n",
    "\n",
    "dig = RNaseDigestion()\n",
    "dig.setEnzyme(\"RNase_T1\")\n",
    "\n",
    "result = []\n",
    "dig.digest(oligo, result)\n",
    "for fragment in result:\n",
    "  print (fragment)\n",
    "\n",
    "print(\"Looking closer at\", result[0])\n",
    "print(\" Five Prime modification:\", result[0].getFivePrimeMod().getCode())\n",
    "print(\" Three Prime modification:\", result[0].getThreePrimeMod().getCode())\n",
    "for ribo in result[0]:\n",
    "  print (ribo.getCode(), ribo.getMonoMass(), ribo.isModified())"
   ]
  },
  {
   "cell_type": "code",
   "execution_count": 34,
   "metadata": {},
   "outputs": [],
   "source": [
    "from pyopenms import *\n",
    "import matplotlib.pyplot as plt\n",
    "exp = MSExperiment()\n",
    "MzMLFile().load(\"F:\\\\Project\\\\XMLData\\\\3-F9.mzML\", exp)"
   ]
  },
  {
   "cell_type": "code",
   "execution_count": 17,
   "metadata": {},
   "outputs": [],
   "source": [
    "def plotSpectrun(index):\n",
    "    fig = plt.subplots(figsize =(10, 7))\n",
    "    spec=exp[index]\n",
    "    mz, intensity = spec.get_peaks()\n",
    "    \n",
    "    p1 = plt.bar(mz, intensity)\n",
    "    plt.ylim([0, max(intensity)])\n",
    "    plt.xlim([100, 800])\n",
    "    \n",
    "    plt.title(\"MS Level: \" + str(spec.getMSLevel()))\n",
    "    plt.ylabel('Intensity')\n",
    "    plt.xlabel('m/z')\n",
    "    plt.show()\n",
    "\n",
    "    plotSpectrun(1000)\n",
    "    plotSpectrun(10010)\n"
   ]
  },
  {
   "cell_type": "markdown",
   "metadata": {},
   "source": [
    "# Task3 (yeast)"
   ]
  },
  {
   "cell_type": "code",
   "execution_count": 18,
   "metadata": {},
   "outputs": [
    {
     "name": "stdout",
     "output_type": "stream",
     "text": [
      "AYR\n",
      "59\n",
      "##################################################\n",
      "FYDILGVPVTATDVEIK\n",
      "NPSEEAAEK\n",
      "EASAAYEILSDPEK\n",
      "HEISASLEELYK\n",
      "CTSCNGQGIK\n",
      "QMGPMIQR\n",
      "FQTECDVCHGTGDIIDPK\n",
      "ILEVHVEPGMK\n",
      "GEADQAPDVIPGDVVFIVSERPHK\n",
      "DGDDLVYEAEIDLLTAIAGGEFALEHVSGDWLK\n",
      "VGIVPGEVIAPGMR\n",
      "YGGYGNLIIK\n",
      "FPENHFTSEENLK\n",
      "LEEILPPR\n",
      "IVPAIPK\n",
      "ATVDECVLADFDPAK\n",
      "GGANYDSDEEEQGGEGVQCASQ\n",
      "##################################################\n",
      "FYDILGVPVTATDVEIK\n",
      "NPSEEAAEK\n",
      "EASAAYEILSDPEK\n",
      "HEISASLEELYK\n",
      "CTSCNGQGIK\n",
      "QMGPMIQR\n",
      "FQTECDVCHGTGDIIDPK\n",
      "ILEVHVEPGMK\n",
      "GEADQAPDVIPGDVVFIVSERPHK\n",
      "DGDDLVYEAEIDLLTAIAGGEFALEHVSGDWLK\n",
      "VGIVPGEVIAPGMR\n",
      "YGGYGNLIIK\n",
      "FPENHFTSEENLK\n",
      "LEEILPPR\n",
      "IVPAIPK\n",
      "ATVDECVLADFDPAK\n",
      "GGANYDSDEEEQGGEGVQCASQ\n",
      "ETKFYDILGVPVTATDVEIK\n",
      "FYDILGVPVTATDVEIKK\n",
      "CALKYHPDK\n",
      "YHPDKNPSEEAAEK\n",
      "NPSEEAAEKFK\n",
      "FKEASAAYEILSDPEK\n",
      "EASAAYEILSDPEKR\n",
      "DIKHEISASLEELYK\n",
      "HEISASLEELYKGR\n",
      "TAKLALNK\n",
      "LALNKQILCK\n",
      "QILCKECEGR\n",
      "ECEGRGGK\n",
      "KCTSCNGQGIK\n",
      "CTSCNGQGIKFVTR\n",
      "FVTRQMGPMIQR\n",
      "QMGPMIQRFQTECDVCHGTGDIIDPK\n",
      "FQTECDVCHGTGDIIDPKDR\n",
      "CKSCNGK\n",
      "KILEVHVEPGMK\n",
      "ILEVHVEPGMKDGQR\n",
      "DGQRIVFK\n",
      "IVFKGEADQAPDVIPGDVVFIVSERPHK\n",
      "GEADQAPDVIPGDVVFIVSERPHKSFK\n",
      "RDGDDLVYEAEIDLLTAIAGGEFALEHVSGDWLK\n",
      "VGIVPGEVIAPGMRK\n",
      "VIEGKGMPIPK\n",
      "GMPIPKYGGYGNLIIK\n",
      "YGGYGNLIIKFTIK\n",
      "FTIKFPENHFTSEENLK\n",
      "FPENHFTSEENLKK\n",
      "KLEEILPPR\n",
      "LEEILPPRIVPAIPK\n",
      "IVPAIPKK\n",
      "KATVDECVLADFDPAK\n",
      "ATVDECVLADFDPAKYNR\n",
      "ASRGGANYDSDEEEQGGEGVQCASQ\n",
      "MVKETKFYDILGVPVTATDVEIK\n",
      "ETKFYDILGVPVTATDVEIKK\n",
      "FYDILGVPVTATDVEIKKAYR\n",
      "AYRKCALK\n",
      "KCALKYHPDK\n",
      "CALKYHPDKNPSEEAAEK\n",
      "YHPDKNPSEEAAEKFK\n",
      "NPSEEAAEKFKEASAAYEILSDPEK\n",
      "FKEASAAYEILSDPEKR\n",
      "GPQRGKDIK\n",
      "GKDIKHEISASLEELYK\n",
      "DIKHEISASLEELYKGR\n",
      "HEISASLEELYKGRTAK\n",
      "GRTAKLALNK\n",
      "TAKLALNKQILCK\n",
      "LALNKQILCKECEGR\n",
      "QILCKECEGRGGK\n",
      "ECEGRGGKK\n",
      "GGKKGAVK\n",
      "GAVKKCTSCNGQGIK\n",
      "KCTSCNGQGIKFVTR\n",
      "CTSCNGQGIKFVTRQMGPMIQR\n",
      "FVTRQMGPMIQRFQTECDVCHGTGDIIDPK\n",
      "QMGPMIQRFQTECDVCHGTGDIIDPKDR\n",
      "FQTECDVCHGTGDIIDPKDRCK\n",
      "DRCKSCNGK\n",
      "CKSCNGKK\n",
      "SCNGKKVENER\n",
      "KVENERK\n",
      "VENERKILEVHVEPGMK\n",
      "KILEVHVEPGMKDGQR\n",
      "ILEVHVEPGMKDGQRIVFK\n",
      "DGQRIVFKGEADQAPDVIPGDVVFIVSERPHK\n",
      "IVFKGEADQAPDVIPGDVVFIVSERPHKSFK\n",
      "GEADQAPDVIPGDVVFIVSERPHKSFKR\n",
      "SFKRDGDDLVYEAEIDLLTAIAGGEFALEHVSGDWLK\n",
      "VGIVPGEVIAPGMRKVIEGK\n",
      "KVIEGKGMPIPK\n",
      "VIEGKGMPIPKYGGYGNLIIK\n",
      "GMPIPKYGGYGNLIIKFTIK\n",
      "YGGYGNLIIKFTIKFPENHFTSEENLK\n",
      "FTIKFPENHFTSEENLKK\n",
      "FPENHFTSEENLKKLEEILPPR\n",
      "KLEEILPPRIVPAIPK\n",
      "LEEILPPRIVPAIPKK\n",
      "IVPAIPKKATVDECVLADFDPAK\n",
      "KATVDECVLADFDPAKYNR\n",
      "ATVDECVLADFDPAKYNRTR\n",
      "YNRTRASR\n",
      "TRASRGGANYDSDEEEQGGEGVQCASQ\n",
      "##################################################\n",
      "33\n"
     ]
    },
    {
     "data": {
      "text/plain": [
       "'(?<=[KX])(?!P)'"
      ]
     },
     "execution_count": 18,
     "metadata": {},
     "output_type": "execute_result"
    }
   ],
   "source": [
    "from pyopenms import *\n",
    "from urllib.request import urlretrieve\n",
    "\n",
    "urlretrieve (\"file:///C:/Users/Laptop%20Market/Downloads/uniprot-yourlist_M202111204ABAA9BC7178C81CEBC9459510EDDEA33004E50.fasta\", \"yourlist_M202111204ABAA9BC7178C81CEBC9459510EDDEA33004E50.fasta\")\n",
    "\n",
    "dig = ProteaseDigestion()\n",
    "dig.getEnzymeName() # Trypsin\n",
    "bsa = \"\".join([l.strip() for l in open(\"yourlist_M202111204ABAA9BC7178C81CEBC9459510EDDEA33004E50.fasta\").readlines()[1:]])\n",
    "bsa = AASequence.fromString(bsa)\n",
    "\n",
    "result = []\n",
    "dig.digest(bsa, result)\n",
    "print(result[4].toString())\n",
    "print(len(result))\n",
    "\n",
    "print(\"#\"*50)\n",
    "\n",
    "dig.digest(bsa, result, 7, 40)\n",
    "for s in result:\n",
    "    print(s.toString())\n",
    "\n",
    "print(\"#\"*50)\n",
    "\n",
    "\n",
    "dig.setMissedCleavages(2)\n",
    "dig.digest(bsa, result, 7, 40)\n",
    "for s in result:\n",
    "    print(s.toString())\n",
    "    \n",
    "print(\"#\"*50)\n",
    "\n",
    "names = []\n",
    "ProteaseDB().getAllNames(names)\n",
    "print(len(names))\n",
    "e = ProteaseDB().getEnzyme('Lys-C')\n",
    "e.getRegExDescription()\n",
    "e.getRegEx()\n"
   ]
  },
  {
   "cell_type": "code",
   "execution_count": 21,
   "metadata": {},
   "outputs": [
    {
     "name": "stdout",
     "output_type": "stream",
     "text": [
      "AYRK\n"
     ]
    },
    {
     "data": {
      "text/plain": [
       "42"
      ]
     },
     "execution_count": 21,
     "metadata": {},
     "output_type": "execute_result"
    }
   ],
   "source": [
    "from urllib.request import urlretrieve\n",
    "urlretrieve (\"file:///C:/Users/Laptop%20Market/Downloads/uniprot-yourlist_M202111204ABAA9BC7178C81CEBC9459510EDDEA33004E50.fasta\", \"yourlist_M202111204ABAA9BC7178C81CEBC9459510EDDEA33004E50.fasta\")\n",
    "\n",
    "dig = ProteaseDigestion()\n",
    "dig.setEnzyme('Lys-C')\n",
    "bsa = \"\".join([l.strip() for l in open(\"yourlist_M202111204ABAA9BC7178C81CEBC9459510EDDEA33004E50.fasta\").readlines()[1:]])\n",
    "bsa = AASequence.fromString(bsa)\n",
    "result = []\n",
    "dig.digest(bsa, result)\n",
    "print(result[4].toString())\n",
    "len(result)"
   ]
  },
  {
   "cell_type": "markdown",
   "metadata": {},
   "source": [
    "# Task4 (Decoy)"
   ]
  },
  {
   "cell_type": "code",
   "execution_count": 1,
   "metadata": {},
   "outputs": [],
   "source": [
    "from pyopenms import *\n",
    " \n",
    "protein_id = ProteinIdentification()\n",
    "protein_id.setIdentifier(\"IdentificationRun1\")\n",
    " \n",
    "protein_hit = ProteinHit()\n",
    "protein_hit.setAccession(\"sp|MyAccession\")\n",
    "protein_hit.setSequence(\"PEPTIDERDLQMTQSPSSLSVSVGDRPEPTIDE\")\n",
    "protein_hit.setScore(1.0)\n",
    "protein_hit.setMetaValue(\"target_decoy\", b\"target\")\n",
    "\n",
    "protein_id.setHits([protein_hit])"
   ]
  },
  {
   "cell_type": "code",
   "execution_count": 5,
   "metadata": {},
   "outputs": [
    {
     "name": "stdout",
     "output_type": "stream",
     "text": [
      "Protein hit accession: sp|MyAccession\n",
      "Protein hit sequence: PEPTIDERDLQMTQSPSSLSVSVGDRPEPTIDE\n",
      "Protein hit score: 1.0\n"
     ]
    }
   ],
   "source": [
    "now = DateTime.now()\n",
    "date_string = now.getDate()\n",
    "protein_id.setDateTime(now)\n",
    "\n",
    "search_parameters = SearchParameters()\n",
    "search_parameters.db = \"database\"\n",
    "search_parameters.charges = \"+2\"\n",
    "protein_id.setSearchParameters(search_parameters)\n",
    "\n",
    "protein_id.setSearchEngineVersion(\"v1.0.0\")\n",
    "protein_id.setSearchEngine(\"SearchEngine\")\n",
    "protein_id.setScoreType(\"HyperScore\")\n",
    "\n",
    "for hit in protein_id.getHits():\n",
    "  print(\"Protein hit accession:\", hit.getAccession())\n",
    "  print(\"Protein hit sequence:\", hit.getSequence())\n",
    "  print(\"Protein hit score:\", hit.getScore())"
   ]
  },
  {
   "cell_type": "code",
   "execution_count": 6,
   "metadata": {},
   "outputs": [],
   "source": [
    "peptide_id = PeptideIdentification()\n",
    "\n",
    "peptide_id.setRT(1243.56)\n",
    "peptide_id.setMZ(440.0)\n",
    "peptide_id.setScoreType(\"ScoreType\")\n",
    "peptide_id.setHigherScoreBetter(False)\n",
    "peptide_id.setIdentifier(\"IdentificationRun1\")\n",
    "\n",
    "peptide_id.setMetaValue(\"AdditionalMetaValue\", \"Value\")\n",
    "\n",
    "peptide_hit = PeptideHit()\n",
    "peptide_hit.setScore(1.0)\n",
    "peptide_hit.setRank(1)\n",
    "peptide_hit.setCharge(2)\n",
    "peptide_hit.setSequence(AASequence.fromString(\"DLQM(Oxidation)TQSPSSLSVSVGDR\"))\n",
    "\n",
    "ev = PeptideEvidence()\n",
    "ev.setProteinAccession(\"sp|MyAccession\")\n",
    "ev.setAABefore(b\"R\")\n",
    "ev.setAAAfter(b\"P\")\n",
    "ev.setStart(123)\n",
    "ev.setEnd(141)\n",
    "peptide_hit.setPeptideEvidences([ev])\n",
    "\n",
    "peptide_hit2 = PeptideHit()\n",
    "peptide_hit2.setScore(0.5)\n",
    "peptide_hit2.setRank(2)\n",
    "peptide_hit2.setCharge(2)\n",
    "peptide_hit2.setSequence(AASequence.fromString(\"QDLMTQSPSSLSVSVGDR\"))\n",
    "peptide_hit2.setPeptideEvidences([ev])\n",
    "\n",
    "peptide_id.setHits([peptide_hit, peptide_hit2])"
   ]
  },
  {
   "cell_type": "code",
   "execution_count": 7,
   "metadata": {},
   "outputs": [
    {
     "name": "stdout",
     "output_type": "stream",
     "text": [
      "Peptide ID m/z: 440.0\n",
      "Peptide ID rt: 1243.56\n",
      "Peptide ID score type: ScoreType\n",
      " - Peptide hit rank: 1\n",
      " - Peptide hit sequence: DLQM(Oxidation)TQSPSSLSVSVGDR\n",
      " - Peptide hit score: 1.0\n",
      " - Mapping to proteins: ['sp|MyAccession']\n",
      " - Peptide hit rank: 2\n",
      " - Peptide hit sequence: QDLMTQSPSSLSVSVGDR\n",
      " - Peptide hit score: 0.5\n",
      " - Mapping to proteins: ['sp|MyAccession']\n"
     ]
    }
   ],
   "source": [
    "peptide_ids = [peptide_id]\n",
    "for peptide_id in peptide_ids:\n",
    "  print (\"Peptide ID m/z:\", peptide_id.getMZ())\n",
    "  print (\"Peptide ID rt:\", peptide_id.getRT())\n",
    "  print (\"Peptide ID score type:\", peptide_id.getScoreType())\n",
    "for hit in peptide_id.getHits():\n",
    "    print(\" - Peptide hit rank:\", hit.getRank())\n",
    "    print(\" - Peptide hit sequence:\", hit.getSequence())\n",
    "    print(\" - Peptide hit score:\", hit.getScore())\n",
    "    print(\" - Mapping to proteins:\", [ev.getProteinAccession() for ev in hit.getPeptideEvidences() ] )"
   ]
  },
  {
   "cell_type": "code",
   "execution_count": 26,
   "metadata": {},
   "outputs": [
    {
     "name": "stdout",
     "output_type": "stream",
     "text": [
      "Protein hit accession: sp|MyAccession\n",
      "Protein hit sequence: PEPTIDERDLQMTQSPSSLSVSVGDRPEPTIDE\n",
      "Protein hit score: 1.0\n",
      "Protein hit target/decoy: target\n",
      "##################################################\n",
      "\n",
      "##################################################\n",
      "\n",
      " - Peptide hit rank: 0\n",
      " - Peptide hit sequence: QDLMTQSPSSLSVSVGDR\n",
      " - Peptide hit score: 0.5\n",
      " - Mapping to proteins: ['sp|MyAccession']\n",
      " - Peptide hit rank: 0\n",
      " - Peptide hit sequence: DLQM(Oxidation)TQSPSSLSVSVGDR\n",
      " - Peptide hit score: 1.0\n",
      " - Mapping to proteins: ['sp|MyAccession']\n"
     ]
    }
   ],
   "source": [
    "IdXMLFile().store(\"out.idXML\", [protein_id], peptide_ids)\n",
    "\n",
    "prot_ids = []; pep_ids = []\n",
    "IdXMLFile().load(\"out.idXML\", prot_ids, pep_ids)\n",
    "\n",
    "for protein_id in prot_ids:\n",
    "      for hit in protein_id.getHits():\n",
    "        print(\"Protein hit accession:\", hit.getAccession())\n",
    "        print(\"Protein hit sequence:\", hit.getSequence())\n",
    "        print(\"Protein hit score:\", hit.getScore())\n",
    "        print(\"Protein hit target/decoy:\", hit.getMetaValue(\"target_decoy\"))\n",
    "\n",
    "print(50*\"#\")\n",
    "print()\n",
    "for peptide_id in pep_ids:\n",
    "    print(\"Peptide ID m/z:\",peptide_id.getMZ())\n",
    "    print (\"Peptide ID rt:\", peptide_id.getRT())\n",
    "    print (\"Peptide ID score type:\", peptide_id.getScoreType())\n",
    "\n",
    "print(50*\"#\")\n",
    "print()\n",
    "for hit in peptide_id.getHits():\n",
    "    print(\" - Peptide hit rank:\", hit.getRank())\n",
    "    print(\" - Peptide hit sequence:\", hit.getSequence())\n",
    "    print(\" - Peptide hit score:\", hit.getScore())\n",
    "    print(\" - Mapping to proteins:\", [ev.getProteinAccession() for ev in hit.getPeptideEvidences() ] )"
   ]
  }
 ],
 "metadata": {
  "kernelspec": {
   "display_name": "Python 3",
   "language": "python",
   "name": "python3"
  },
  "language_info": {
   "codemirror_mode": {
    "name": "ipython",
    "version": 3
   },
   "file_extension": ".py",
   "mimetype": "text/x-python",
   "name": "python",
   "nbconvert_exporter": "python",
   "pygments_lexer": "ipython3",
   "version": "3.8.5"
  }
 },
 "nbformat": 4,
 "nbformat_minor": 4
}
